{
 "cells": [
  {
   "cell_type": "code",
   "execution_count": 1,
   "id": "80098051",
   "metadata": {
    "ExecuteTime": {
     "end_time": "2024-06-12T16:58:13.068458Z",
     "start_time": "2024-06-12T16:58:08.287981Z"
    }
   },
   "outputs": [],
   "source": [
    "import random\n",
    "random.seed(10)\n",
    "from util.tools import dotdict\n",
    "from modeling.statmodeling.random_walk import RandomWalk\n",
    "from modeling.statmodeling.simple_moving_evarege import SimpleMovingAverage\n",
    "from modeling.statmodeling.null_model import NullModel\n",
    "from modeling.statmodeling.ar import AR\n",
    "from modeling.statmodeling.arima import ARIMA\n",
    "from modeling.statmodeling.sarima import SARIMA"
   ]
  },
  {
   "cell_type": "code",
   "outputs": [],
   "source": [],
   "metadata": {
    "collapsed": false,
    "ExecuteTime": {
     "end_time": "2024-06-12T16:58:18.091371Z",
     "start_time": "2024-06-12T16:58:18.072139Z"
    }
   },
   "id": "5f2c573e61678f72",
   "execution_count": 1
  },
  {
   "cell_type": "code",
   "execution_count": 2,
   "id": "f9cf65eee07eee8f",
   "metadata": {
    "ExecuteTime": {
     "end_time": "2024-06-12T16:58:21.908494Z",
     "start_time": "2024-06-12T16:58:18.287762Z"
    }
   },
   "outputs": [
    {
     "name": "stdout",
     "output_type": "stream",
     "text": [
      "\u001B[1mRandom Walk\u001B[0m\n",
      "\u001B[1mTarget:\u001B[0m new_deaths \u001B[1mMax Horizons:\u001B[0m 6\n",
      "Train Mean:  8229.264 Train Standard Deviation:  5740.579\n",
      "In-sample QoF for new_deaths\n",
      "      mse_normalized  mae_normalized  smape_original\n",
      "1              0.070           0.205          14.727\n",
      "2              0.200           0.350          23.766\n",
      "3              0.389           0.495          33.351\n",
      "4              0.626           0.626          41.994\n",
      "5              0.890           0.749          49.822\n",
      "6              1.179           0.867          57.106\n",
      "Avg.           0.559           0.549          36.794\n",
      "Total Time:0.01995086669921875 seconds. \n"
     ]
    }
   ],
   "source": [
    "args = dotdict()\n",
    "args.seq_len = 10\n",
    "args.file_name = '~/projects/scalation_py/datasets/covid/national_covid_weekly.csv'\n",
    "args.dataset = 'COVID-19'\n",
    "args.max_horizon = 6\n",
    "args.normalization = True\n",
    "args.inverse_transform = args.normalization\n",
    "args.model_name = 'Random Walk'\n",
    "args.target = 'new_deaths'\n",
    "args.forecast_type = 'point'\n",
    "args.validation = 'In-sample Validation'\n",
    "args.in_sample = True\n",
    "args.horizons = [1, 2, 3, 4, 5, 6]\n",
    "model = RandomWalk(args)\n",
    "forecasts, forecasts_original = model.in_sample_validation()"
   ]
  },
  {
   "cell_type": "code",
   "outputs": [],
   "source": [],
   "metadata": {
    "collapsed": false,
    "ExecuteTime": {
     "end_time": "2024-06-11T20:29:52.396734Z",
     "start_time": "2024-06-11T20:29:52.383946Z"
    }
   },
   "id": "71181a86e87e125",
   "execution_count": 2
  },
  {
   "cell_type": "code",
   "execution_count": 3,
   "id": "378405b465943b2e",
   "metadata": {
    "ExecuteTime": {
     "end_time": "2024-06-11T20:29:54.829292Z",
     "start_time": "2024-06-11T20:29:52.403993Z"
    }
   },
   "outputs": [
    {
     "name": "stdout",
     "output_type": "stream",
     "text": [
      "\u001B[1mNull Model\u001B[0m\n",
      "\u001B[1mTarget:\u001B[0m new_deaths \u001B[1mMax Horizons:\u001B[0m 6\n",
      "Train Mean:  8229.264 Train Standard Deviation:  5740.579\n",
      "In-sample QoF for new_deaths\n",
      "      mse_normalized  mae_normalized  smape_original\n",
      "1              0.908           0.752          51.319\n",
      "2              0.909           0.751          51.376\n",
      "3              0.917           0.755          51.661\n",
      "4              0.926           0.762          52.154\n",
      "5              0.935           0.768          52.584\n",
      "6              0.943           0.772          52.820\n",
      "Avg.           0.923           0.760          51.986\n",
      "Total Time:0.0014231204986572266 seconds. \n"
     ]
    }
   ],
   "source": [
    "args = dotdict()\n",
    "args.seq_len = 10\n",
    "args.file_name = '~/projects/scalation_py/datasets/covid/national_covid_weekly.csv'\n",
    "args.dataset = 'COVID-19'\n",
    "args.max_horizon = 6\n",
    "args.normalization = True\n",
    "args.inverse_transform = args.normalization\n",
    "args.model_name = 'Null Model'\n",
    "args.target = 'new_deaths'\n",
    "args.forecast_type = 'point' \n",
    "args.validation = 'In-sample Validation'\n",
    "args.in_sample = True\n",
    "args.horizons = [1, 2, 3, 4, 5, 6]\n",
    "model = NullModel(args)\n",
    "forecasts, forecasts_original = model.in_sample_validation()"
   ]
  },
  {
   "cell_type": "code",
   "execution_count": 3,
   "id": "2f75d1b3a82963ea",
   "metadata": {
    "ExecuteTime": {
     "end_time": "2024-06-11T20:29:54.836798Z",
     "start_time": "2024-06-11T20:29:54.829686Z"
    }
   },
   "outputs": [],
   "source": []
  },
  {
   "cell_type": "code",
   "execution_count": 4,
   "id": "d76155ab58c8ee41",
   "metadata": {
    "ExecuteTime": {
     "end_time": "2024-06-11T20:29:58.474313Z",
     "start_time": "2024-06-11T20:29:54.923608Z"
    }
   },
   "outputs": [
    {
     "name": "stdout",
     "output_type": "stream",
     "text": [
      "\u001B[1mSimple Moving Average(2)\u001B[0m\n",
      "\u001B[1mTarget:\u001B[0m new_deaths \u001B[1mMax Horizons:\u001B[0m 6\n",
      "Train Mean:  8229.264 Train Standard Deviation:  5740.579\n",
      "In-sample QoF for new_deaths\n",
      "      mse_normalized  mae_normalized  smape_original\n",
      "1              0.117           0.268          18.656\n",
      "2              0.279           0.415          28.093\n",
      "3              0.494           0.557          37.445\n",
      "4              0.744           0.686          45.829\n",
      "5              1.023           0.808          53.372\n",
      "6              1.306           0.911          59.355\n",
      "Avg.           0.660           0.607          40.459\n",
      "Total Time:0.08791327476501465 seconds. \n"
     ]
    }
   ],
   "source": [
    "windows = [2]\n",
    "for w in windows:\n",
    "    args = dotdict()\n",
    "    args.seq_len = 10\n",
    "    args.file_name = '~/projects/scalation_py/datasets/covid/national_covid_weekly.csv'\n",
    "    args.dataset = 'COVID-19'\n",
    "    args.max_horizon = 6\n",
    "    args.normalization = True\n",
    "    args.inverse_transform = args.normalization\n",
    "    args.model_name = 'Simple Moving Average('+str(w)+')'\n",
    "    args.window = w\n",
    "    args.target = 'new_deaths'\n",
    "    args.forecast_type = 'point' \n",
    "    args.validation = 'In-sample Validation'\n",
    "    args.in_sample = True\n",
    "    args.horizons = [1, 2, 3, 4, 5, 6]\n",
    "    model = SimpleMovingAverage(args)\n",
    "    forecasts, forecasts_original = model.in_sample_validation()"
   ]
  },
  {
   "cell_type": "code",
   "outputs": [],
   "source": [],
   "metadata": {
    "collapsed": false,
    "ExecuteTime": {
     "end_time": "2024-06-11T20:29:58.477878Z",
     "start_time": "2024-06-11T20:29:58.470693Z"
    }
   },
   "id": "e228e69765655070",
   "execution_count": 4
  },
  {
   "cell_type": "code",
   "execution_count": 5,
   "id": "ed65b16899372734",
   "metadata": {
    "ExecuteTime": {
     "end_time": "2024-06-11T20:30:02.174598Z",
     "start_time": "2024-06-11T20:29:58.491042Z"
    }
   },
   "outputs": [
    {
     "name": "stdout",
     "output_type": "stream",
     "text": [
      "\u001B[1mAR(10)\u001B[0m\n",
      "\u001B[1mTarget:\u001B[0m new_deaths \u001B[1mMax Horizons:\u001B[0m 6\n",
      "Train Mean:  8229.264 Train Standard Deviation:  5740.579\n",
      "In-sample QoF for new_deaths\n",
      "      mse_normalized  mae_normalized  smape_original\n",
      "1              0.041           0.153          11.385\n",
      "2              0.099           0.234          16.941\n",
      "3              0.174           0.311          23.025\n",
      "4              0.277           0.404          29.748\n",
      "5              0.385           0.494          35.663\n",
      "6              0.524           0.591          41.817\n",
      "Avg.           0.250           0.364          26.430\n",
      "Total Time:0.07930183410644531 seconds. \n"
     ]
    }
   ],
   "source": [
    "exp = 1\n",
    "args = dotdict()\n",
    "for i in range(exp):\n",
    "    args.seq_len = 10\n",
    "    args.file_name = '~/projects/scalation_py/datasets/covid/national_covid_weekly.csv'\n",
    "    args.dataset = 'COVID-19'\n",
    "    args.max_horizon = 6\n",
    "    args.normalization = True\n",
    "    args.inverse_transform = args.normalization\n",
    "    args.p = random.randint(10, 10) \n",
    "    args.model_name = f'AR({args.p})'\n",
    "    args.target = 'new_deaths'\n",
    "    args.forecast_type = 'point'\n",
    "    args.validation = 'In-sample Validation'\n",
    "    args.in_sample = True\n",
    "    args.trend = random.choice(['c'])\n",
    "    args.horizons = [1, 2, 3, 4, 5, 6]\n",
    "    model = AR(args)\n",
    "    forecasts, forecasts_original = model.in_sample_validation()"
   ]
  },
  {
   "cell_type": "code",
   "execution_count": 5,
   "id": "5d914cedf722a336",
   "metadata": {
    "ExecuteTime": {
     "end_time": "2024-06-11T20:30:02.190037Z",
     "start_time": "2024-06-11T20:30:02.170761Z"
    }
   },
   "outputs": [],
   "source": []
  },
  {
   "cell_type": "code",
   "execution_count": 6,
   "id": "d9d9f03e0757ca9",
   "metadata": {
    "ExecuteTime": {
     "end_time": "2024-06-11T20:30:05.213128Z",
     "start_time": "2024-06-11T20:30:02.187792Z"
    }
   },
   "outputs": [
    {
     "name": "stdout",
     "output_type": "stream",
     "text": [
      "\u001B[1mARIMA(10,0,3)\u001B[0m\n",
      "\u001B[1mTarget:\u001B[0m new_deaths \u001B[1mMax Horizons:\u001B[0m 6\n",
      "Train Mean:  8229.264 Train Standard Deviation:  5740.579\n",
      "In-sample QoF for new_deaths\n",
      "      mse_normalized  mae_normalized  smape_original\n",
      "1              0.040           0.147          10.943\n",
      "2              0.093           0.230          16.598\n",
      "3              0.160           0.301          22.173\n",
      "4              0.245           0.384          28.108\n",
      "5              0.329           0.456          33.197\n",
      "6              0.426           0.533          38.606\n",
      "Avg.           0.216           0.342          24.938\n",
      "Total Time:1.0037782192230225 seconds. \n"
     ]
    }
   ],
   "source": [
    "exp = 1\n",
    "args = dotdict()\n",
    "for i in range(exp):\n",
    "    args.seq_len = 10\n",
    "    args.file_name = '~/projects/scalation_py/datasets/covid/national_covid_weekly.csv'\n",
    "    args.dataset = 'COVID-19'\n",
    "    args.max_horizon = 6\n",
    "    args.normalization = True\n",
    "    args.inverse_transform = args.normalization\n",
    "    args.p = random.randint(10, 10)\n",
    "    args.d = random.randint(0, 0)\n",
    "    args.q = random.randint(3, 3)\n",
    "    args.model_name = f'ARIMA({args.p},{args.d},{args.q})'\n",
    "    args.target = 'new_deaths'\n",
    "    args.forecast_type = 'point'\n",
    "    args.validation = 'In-sample Validation'\n",
    "    args.in_sample = True\n",
    "    args.repeat = False\n",
    "    if args.d > 0:\n",
    "        args.trend = random.choice(['n'])\n",
    "    else:\n",
    "        args.trend = random.choice(['c'])    \n",
    "    args.horizons = [1, 2, 3, 4, 5, 6]\n",
    "    model = ARIMA(args)\n",
    "    forecasts, forecasts_original = model.in_sample_validation()"
   ]
  },
  {
   "cell_type": "code",
   "execution_count": 6,
   "id": "ce13d0101bee80d",
   "metadata": {
    "ExecuteTime": {
     "end_time": "2024-06-11T20:30:05.225151Z",
     "start_time": "2024-06-11T20:30:05.212109Z"
    }
   },
   "outputs": [],
   "source": []
  },
  {
   "cell_type": "code",
   "execution_count": 7,
   "id": "b4ed92bae84e5753",
   "metadata": {
    "ExecuteTime": {
     "end_time": "2024-06-11T20:30:14.420797Z",
     "start_time": "2024-06-11T20:30:05.234474Z"
    }
   },
   "outputs": [
    {
     "name": "stdout",
     "output_type": "stream",
     "text": [
      "\u001B[1mSARIMA(10,0,3,3,0,1,13)\u001B[0m\n",
      "\u001B[1mTarget:\u001B[0m new_deaths \u001B[1mMax Horizons:\u001B[0m 6\n",
      "Train Mean:  8229.264 Train Standard Deviation:  5740.579\n",
      "In-sample QoF for new_deaths\n",
      "      mse_normalized  mae_normalized  smape_original\n",
      "1              0.062           0.177          14.666\n",
      "2              0.125           0.251          19.572\n",
      "3              0.204           0.304          21.812\n",
      "4              0.299           0.383          26.811\n",
      "5              0.386           0.438          29.793\n",
      "6              0.478           0.501          33.714\n",
      "Avg.           0.259           0.342          24.395\n",
      "Total Time:6.639453172683716 seconds. \n"
     ]
    }
   ],
   "source": [
    "exp = 1\n",
    "args = dotdict()\n",
    "for i in range(exp):\n",
    "    args.seq_len = 10\n",
    "    args.file_name = '~/projects/scalation_py/datasets/covid/national_covid_weekly.csv'\n",
    "    args.dataset = 'COVID-19'\n",
    "    args.max_horizon = 6\n",
    "    args.normalization = True\n",
    "    args.inverse_transform = args.normalization\n",
    "    args.p = random.randint(10, 10)\n",
    "    args.d = random.randint(0, 0)\n",
    "    args.q = random.randint(3, 3)\n",
    "    args.P = random.randint(3, 3)\n",
    "    args.D = random.randint(0, 0)\n",
    "    args.Q = random.randint(1, 1)\n",
    "    args.s = random.choice([13])\n",
    "    args.model_name = f'SARIMA({args.p},{args.d},{args.q},{args.P},{args.D},{args.Q},{args.s})'\n",
    "    args.target = 'new_deaths'\n",
    "    args.forecast_type = 'point'\n",
    "    args.validation = 'In-sample Validation'\n",
    "    args.in_sample = True\n",
    "    if args.d > 0 or args.D > 0:\n",
    "        args.trend = random.choice(['n'])\n",
    "    else:\n",
    "        args.trend = random.choice(['c'])\n",
    "    args.horizons = [1, 2, 3, 4, 5, 6]\n",
    "    model = SARIMA(args)\n",
    "    forecasts, forecasts_original = model.in_sample_validation()"
   ]
  },
  {
   "cell_type": "code",
   "outputs": [],
   "source": [],
   "metadata": {
    "collapsed": false,
    "ExecuteTime": {
     "end_time": "2024-06-11T20:30:14.429947Z",
     "start_time": "2024-06-11T20:30:14.422214Z"
    }
   },
   "id": "50a661db46aeb236",
   "execution_count": 7
  }
 ],
 "metadata": {
  "kernelspec": {
   "display_name": "Python 3 (ipykernel)",
   "language": "python",
   "name": "python3"
  },
  "language_info": {
   "codemirror_mode": {
    "name": "ipython",
    "version": 3
   },
   "file_extension": ".py",
   "mimetype": "text/x-python",
   "name": "python",
   "nbconvert_exporter": "python",
   "pygments_lexer": "ipython3",
   "version": "3.8.18"
  }
 },
 "nbformat": 4,
 "nbformat_minor": 5
}
