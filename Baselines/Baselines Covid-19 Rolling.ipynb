{
 "cells": [
  {
   "cell_type": "code",
   "execution_count": 1,
   "id": "80098051",
   "metadata": {
    "ExecuteTime": {
     "end_time": "2024-06-13T02:12:06.767128Z",
     "start_time": "2024-06-13T02:11:59.813476Z"
    }
   },
   "outputs": [],
   "source": [
    "import random\n",
    "random.seed(10)\n",
    "from util.tools import dotdict\n",
    "from modeling.statmodeling.random_walk import RandomWalk\n",
    "from modeling.statmodeling.simple_moving_evarege import SimpleMovingAverage\n",
    "from modeling.statmodeling.null_model import NullModel\n",
    "from modeling.statmodeling.ar import AR\n",
    "from modeling.statmodeling.arima import ARIMA\n",
    "from modeling.statmodeling.sarima import SARIMA"
   ]
  },
  {
   "cell_type": "code",
   "outputs": [],
   "source": [],
   "metadata": {
    "collapsed": false,
    "ExecuteTime": {
     "end_time": "2024-06-13T02:12:09.309811Z",
     "start_time": "2024-06-13T02:12:09.273856Z"
    }
   },
   "id": "1c174b5e7f6fa31c",
   "execution_count": 1
  },
  {
   "cell_type": "code",
   "outputs": [
    {
     "name": "stdout",
     "output_type": "stream",
     "text": [
      "\u001B[1mRandom Walk\u001B[0m\n",
      "\u001B[1mTarget:\u001B[0m new_deaths \u001B[1mMax Horizons:\u001B[0m 6\n",
      "Train Mean:  8424.652 Train Standard Deviation:  5634.152\n",
      "Out of Sample 24 QoF for new_deaths\n",
      "      mse_normalized  mae_normalized  smape_original\n",
      "1              0.098           0.263          18.153\n",
      "2              0.304           0.454          27.567\n",
      "3              0.572           0.623          38.031\n",
      "4              0.899           0.775          47.058\n",
      "5              1.203           0.914          54.719\n",
      "6              1.572           1.073          63.561\n",
      "Avg.           0.775           0.684          41.515\n",
      "Total Time:0.05966997146606445 seconds. \n"
     ]
    }
   ],
   "source": [
    "args = dotdict()\n",
    "args.file_name = '~/projects/scalation_py/datasets/covid/national_covid_weekly.csv'\n",
    "args.dataset = 'COVID-19'\n",
    "args.training_ratio = 0.8\n",
    "args.max_horizon = 6\n",
    "args.normalization = True\n",
    "args.inverse_transform = args.normalization\n",
    "args.model_name = 'Random Walk'\n",
    "args.target = 'new_deaths'\n",
    "args.forecast_type = 'point'\n",
    "args.validation = 'Rolling Validation'\n",
    "args.horizons = [1, 2, 3, 4, 5, 6]\n",
    "model = RandomWalk(args)\n",
    "forecasts, forecasts_original = model.rolling_validation()"
   ],
   "metadata": {
    "collapsed": false,
    "ExecuteTime": {
     "end_time": "2024-06-13T02:12:15.660146Z",
     "start_time": "2024-06-13T02:12:10.345336Z"
    }
   },
   "id": "f9cf65eee07eee8f",
   "execution_count": 2
  },
  {
   "cell_type": "code",
   "outputs": [],
   "source": [],
   "metadata": {
    "collapsed": false,
    "ExecuteTime": {
     "end_time": "2024-06-11T20:35:26.391828Z",
     "start_time": "2024-06-11T20:35:26.381485Z"
    }
   },
   "id": "9b70066775385957",
   "execution_count": 2
  },
  {
   "cell_type": "code",
   "outputs": [
    {
     "name": "stdout",
     "output_type": "stream",
     "text": [
      "\u001B[1mRandom Walk\u001B[0m\n",
      "\u001B[1mTarget:\u001B[0m ILITOTAL \u001B[1mMax Horizons:\u001B[0m 60\n",
      "Train Mean:  10132.701 Train Standard Deviation:  9168.208\n",
      "Out of Sample QoF for ILITOTAL\n",
      "      mse_normalized  mae_normalized  smape_original\n",
      "6              4.994           1.522          48.356\n",
      "12            12.159           2.502          75.987\n",
      "24            19.658           3.391          98.124\n",
      "36            16.403           3.056          91.177\n",
      "48             8.249           1.787          47.539\n",
      "60            10.296           2.223          68.635\n",
      "Avg.          11.960           2.414          71.636\n",
      "Total Time:0.047025203704833984 seconds. \n"
     ]
    }
   ],
   "source": [
    "args = dotdict()\n",
    "args.file_name = '~/projects/scalation_py/datasets/ili/national_ili.csv'\n",
    "args.dataset = 'ILI'\n",
    "args.training_ratio = 0.8\n",
    "args.max_horizon = 60\n",
    "args.normalization = True\n",
    "args.inverse_transform = args.normalization\n",
    "args.model_name = 'Random Walk'\n",
    "args.target = 'ILITOTAL'\n",
    "args.forecast_type = 'point'\n",
    "args.validation = 'Rolling Validation'\n",
    "args.horizons = [6, 12, 24, 36, 48, 60]\n",
    "model = RandomWalk(args)\n",
    "forecasts, forecasts_original = model.rolling_validation()"
   ],
   "metadata": {
    "collapsed": false,
    "ExecuteTime": {
     "end_time": "2024-06-11T20:35:28.541394Z",
     "start_time": "2024-06-11T20:35:26.399039Z"
    }
   },
   "id": "70c5bf504baf0fb6",
   "execution_count": 3
  },
  {
   "cell_type": "code",
   "outputs": [],
   "source": [],
   "metadata": {
    "collapsed": false,
    "ExecuteTime": {
     "end_time": "2024-06-11T20:35:28.555368Z",
     "start_time": "2024-06-11T20:35:28.534116Z"
    }
   },
   "id": "5b0aa43863ce9b6d",
   "execution_count": 3
  },
  {
   "cell_type": "code",
   "outputs": [
    {
     "name": "stdout",
     "output_type": "stream",
     "text": [
      "\u001B[1mNull Model\u001B[0m\n",
      "\u001B[1mTarget:\u001B[0m new_deaths \u001B[1mMax Horizons:\u001B[0m 6\n",
      "Train Mean:  8424.652 Train Standard Deviation:  5634.152\n",
      "Out of Sample QoF for new_deaths\n",
      "      mse_normalized  mae_normalized  smape_original\n",
      "1               0.94           0.809          54.895\n",
      "2               0.94           0.809          54.895\n",
      "3               0.94           0.809          54.895\n",
      "4               0.94           0.809          54.895\n",
      "5               0.94           0.809          54.895\n",
      "6               0.94           0.809          54.895\n",
      "Avg.            0.94           0.809          54.895\n",
      "Total Time:0.00020384788513183594 seconds. \n"
     ]
    }
   ],
   "source": [
    "args = dotdict()\n",
    "args.file_name = '~/projects/scalation_py/datasets/covid/national_covid_weekly.csv'\n",
    "args.dataset = 'COVID-19'\n",
    "args.training_ratio = 0.8\n",
    "args.max_horizon = 6\n",
    "args.normalization = True\n",
    "args.inverse_transform = args.normalization\n",
    "args.model_name = 'Null Model'\n",
    "args.target = 'new_deaths'\n",
    "args.forecast_type = 'point' \n",
    "args.validation = 'Rolling Validation'\n",
    "args.horizons = [1, 2, 3, 4, 5, 6]\n",
    "model = NullModel(args)\n",
    "forecasts, forecasts_original = model.rolling_validation()  "
   ],
   "metadata": {
    "collapsed": false,
    "ExecuteTime": {
     "end_time": "2024-06-11T20:35:30.420892Z",
     "start_time": "2024-06-11T20:35:28.572070Z"
    }
   },
   "id": "378405b465943b2e",
   "execution_count": 4
  },
  {
   "cell_type": "code",
   "outputs": [],
   "source": [],
   "metadata": {
    "collapsed": false,
    "ExecuteTime": {
     "end_time": "2024-06-11T20:35:30.429317Z",
     "start_time": "2024-06-11T20:35:30.418577Z"
    }
   },
   "id": "2f75d1b3a82963ea",
   "execution_count": 4
  },
  {
   "cell_type": "code",
   "outputs": [
    {
     "name": "stdout",
     "output_type": "stream",
     "text": [
      "\u001B[1mSimple Moving Average(2)\u001B[0m\n",
      "\u001B[1mTarget:\u001B[0m new_deaths \u001B[1mMax Horizons:\u001B[0m 6\n",
      "Train Mean:  8424.652 Train Standard Deviation:  5634.152\n",
      "Total Time:0.018558025360107422 seconds. \n",
      "\n",
      "      mse_normalized  mae_normalized  smape_original\n",
      "1              0.173           0.344          22.083\n",
      "2              0.407           0.516          31.820\n",
      "3              0.704           0.680          41.585\n",
      "4              1.019           0.835          50.371\n",
      "5              1.354           0.980          58.374\n",
      "6              1.688           1.103          64.779\n",
      "Avg.           0.891           0.743          44.835\n",
      "Total Time:0.018558025360107422 seconds. \n"
     ]
    }
   ],
   "source": [
    "windows = [2]\n",
    "for w in windows:\n",
    "    args = dotdict()\n",
    "    args.file_name = '~/projects/scalation_py/datasets/covid/national_covid_weekly.csv'\n",
    "    args.dataset = 'COVID-19'\n",
    "    args.training_ratio = 0.8\n",
    "    args.max_horizon = 6\n",
    "    args.normalization = True\n",
    "    args.inverse_transform = args.normalization\n",
    "    args.model_name = f'Simple Moving Average({w})'\n",
    "    args.window = w\n",
    "    args.target = 'new_deaths'\n",
    "    args.forecast_type = 'point' \n",
    "    args.validation = 'Rolling Validation'\n",
    "    args.horizons = [1, 2, 3, 4, 5, 6]\n",
    "    model = SimpleMovingAverage(args)\n",
    "    forecasts, forecasts_original = model.rolling_validation()  "
   ],
   "metadata": {
    "collapsed": false,
    "ExecuteTime": {
     "end_time": "2024-06-11T20:35:32.436728Z",
     "start_time": "2024-06-11T20:35:30.431167Z"
    }
   },
   "id": "d76155ab58c8ee41",
   "execution_count": 5
  },
  {
   "cell_type": "code",
   "outputs": [],
   "source": [],
   "metadata": {
    "collapsed": false,
    "ExecuteTime": {
     "end_time": "2024-06-11T20:35:32.437851Z",
     "start_time": "2024-06-11T20:35:32.431032Z"
    }
   },
   "id": "ebf6e166d992bb1b",
   "execution_count": 5
  },
  {
   "cell_type": "code",
   "outputs": [
    {
     "name": "stdout",
     "output_type": "stream",
     "text": [
      "\u001B[1mAR(5)\u001B[0m\n",
      "\u001B[1mTarget:\u001B[0m new_deaths \u001B[1mMax Horizons:\u001B[0m 6\n",
      "Train Mean:  8424.652 Train Standard Deviation:  5634.152\n",
      "Out of Sample QoF for new_deaths\n",
      "      mse_normalized  mae_normalized  smape_original\n",
      "1              0.080           0.226          15.469\n",
      "2              0.234           0.375          22.304\n",
      "3              0.408           0.477          29.377\n",
      "4              0.643           0.626          38.955\n",
      "5              0.798           0.695          41.588\n",
      "6              1.055           0.842          49.351\n",
      "Avg.           0.536           0.540          32.841\n",
      "Total Time:0.12360668182373047 seconds. \n"
     ]
    }
   ],
   "source": [
    "exp = 1\n",
    "args = dotdict()\n",
    "for i in range(exp):\n",
    "    args.file_name = '~/projects/scalation_py/datasets/covid/national_covid_weekly.csv'\n",
    "    args.dataset = 'COVID-19'\n",
    "    args.training_ratio = 0.8\n",
    "    args.max_horizon = 6\n",
    "    args.normalization = True\n",
    "    args.inverse_transform = args.normalization\n",
    "    args.p = random.randint(5, 5)\n",
    "    args.model_name = f'AR({args.p})'\n",
    "    args.target = 'new_deaths'\n",
    "    args.forecast_type = 'point'\n",
    "    args.validation = 'Rolling Validation'\n",
    "    args.rolling = True\n",
    "    args.trend = random.choice(['c'])\n",
    "    args.horizons = [1, 2, 3, 4, 5, 6]\n",
    "    model = AR(args)\n",
    "    forecasts, forecasts_original = model.rolling_validation()  "
   ],
   "metadata": {
    "collapsed": false,
    "ExecuteTime": {
     "end_time": "2024-06-11T20:35:34.462341Z",
     "start_time": "2024-06-11T20:35:32.442283Z"
    }
   },
   "id": "ed65b16899372734",
   "execution_count": 6
  },
  {
   "cell_type": "code",
   "outputs": [],
   "source": [],
   "metadata": {
    "collapsed": false,
    "ExecuteTime": {
     "end_time": "2024-06-11T20:35:34.463579Z",
     "start_time": "2024-06-11T20:35:34.456111Z"
    }
   },
   "id": "96c1537f09c1bd6f",
   "execution_count": 6
  },
  {
   "cell_type": "code",
   "outputs": [
    {
     "name": "stdout",
     "output_type": "stream",
     "text": [
      "\u001B[1mARIMA(5,0,4)\u001B[0m\n",
      "\u001B[1mTarget:\u001B[0m new_deaths \u001B[1mMax Horizons:\u001B[0m 6\n",
      "Train Mean:  8424.652 Train Standard Deviation:  5634.152\n",
      "Out of Sample QoF for new_deaths\n",
      "      mse_normalized  mae_normalized  smape_original\n",
      "1              0.081           0.235          15.744\n",
      "2              0.258           0.402          22.103\n",
      "3              0.495           0.528          29.594\n",
      "4              0.772           0.667          37.303\n",
      "5              0.938           0.735          40.640\n",
      "6              1.138           0.839          48.253\n",
      "Avg.           0.614           0.568          32.273\n",
      "Total Time:9.70393991470337 seconds. \n"
     ]
    }
   ],
   "source": [
    "exp = 1\n",
    "args = dotdict()\n",
    "for i in range(exp):\n",
    "    args.file_name = '~/projects/scalation_py/datasets/covid/national_covid_weekly.csv'\n",
    "    args.dataset = 'COVID-19'\n",
    "    args.training_ratio = 0.8\n",
    "    args.max_horizon = 6\n",
    "    args.normalization = True\n",
    "    args.inverse_transform = args.normalization\n",
    "    args.p = random.randint(5, 5)\n",
    "    args.d = random.randint(0, 0)\n",
    "    args.q = random.randint(4, 4)\n",
    "    args.model_name = f'ARIMA({args.p},{args.d},{args.q})'\n",
    "    args.target = 'new_deaths'\n",
    "    args.forecast_type = 'point'\n",
    "    args.validation = 'Rolling Validation'\n",
    "    args.rolling = True\n",
    "    if args.d > 0:\n",
    "        args.trend = random.choice(['n'])\n",
    "    else:\n",
    "        args.trend = random.choice(['c'])\n",
    "    args.horizons = [1, 2, 3, 4, 5, 6]\n",
    "    model = ARIMA(args)\n",
    "    forecasts, forecasts_original = model.rolling_validation()  "
   ],
   "metadata": {
    "collapsed": false,
    "ExecuteTime": {
     "end_time": "2024-06-11T20:35:46.107986Z",
     "start_time": "2024-06-11T20:35:34.471175Z"
    }
   },
   "id": "d9d9f03e0757ca9",
   "execution_count": 7
  },
  {
   "cell_type": "code",
   "outputs": [],
   "source": [],
   "metadata": {
    "collapsed": false,
    "ExecuteTime": {
     "end_time": "2024-06-11T20:35:46.117693Z",
     "start_time": "2024-06-11T20:35:46.110881Z"
    }
   },
   "id": "eac60059b02f12",
   "execution_count": 7
  },
  {
   "cell_type": "code",
   "outputs": [
    {
     "name": "stdout",
     "output_type": "stream",
     "text": [
      "\u001B[1mSARIMA(2,0,3,2,0,2,26)\u001B[0m\n",
      "\u001B[1mTarget:\u001B[0m new_deaths \u001B[1mMax Horizons:\u001B[0m 6\n",
      "Train Mean:  8424.652 Train Standard Deviation:  5634.152\n",
      "Out of Sample QoF for new_deaths\n",
      "      mse_normalized  mae_normalized  smape_original\n",
      "1              0.091           0.230          15.689\n",
      "2              0.271           0.400          24.024\n",
      "3              0.442           0.501          29.169\n",
      "4              0.651           0.598          34.117\n",
      "5              0.831           0.671          37.751\n",
      "6              1.070           0.803          46.776\n",
      "Avg.           0.559           0.534          31.254\n",
      "Total Time:131.5906732082367 seconds. \n"
     ]
    }
   ],
   "source": [
    "exp = 1\n",
    "args = dotdict()\n",
    "for i in range(exp):\n",
    "    args.file_name = '~/projects/scalation_py/datasets/covid/national_covid_weekly.csv'\n",
    "    args.dataset = 'COVID-19'\n",
    "    args.training_ratio = 0.8\n",
    "    args.max_horizon = 6\n",
    "    args.normalization = True\n",
    "    args.inverse_transform = args.normalization\n",
    "    args.p = random.randint(2, 2)\n",
    "    args.d = random.randint(0, 0)\n",
    "    args.q = random.randint(3, 3)\n",
    "    args.P = random.randint(2, 2)\n",
    "    args.D = random.randint(0, 0)\n",
    "    args.Q = random.randint(2, 2)\n",
    "    args.s = random.choice([26])\n",
    "    args.model_name = f'SARIMA({args.p},{args.d},{args.q},{args.P},{args.D},{args.Q},{args.s})'\n",
    "    args.target = 'new_deaths'\n",
    "    args.forecast_type = 'point'\n",
    "    args.validation = 'Rolling Validation'\n",
    "    args.rolling = False\n",
    "    if args.d > 0 or args.D > 0:\n",
    "        args.trend = random.choice(['n'])\n",
    "    else:\n",
    "        args.trend = random.choice(['c'])\n",
    "    args.horizons = [1, 2, 3, 4, 5, 6]\n",
    "    model = SARIMA(args)\n",
    "    forecasts, forecasts_original = model.rolling_validation()  "
   ],
   "metadata": {
    "collapsed": false,
    "ExecuteTime": {
     "end_time": "2024-06-11T20:37:59.802526Z",
     "start_time": "2024-06-11T20:35:46.126797Z"
    }
   },
   "id": "b4ed92bae84e5753",
   "execution_count": 8
  },
  {
   "cell_type": "code",
   "outputs": [],
   "source": [],
   "metadata": {
    "collapsed": false,
    "ExecuteTime": {
     "end_time": "2024-06-11T20:37:59.819120Z",
     "start_time": "2024-06-11T20:37:59.804158Z"
    }
   },
   "id": "fd927e0bd4428434",
   "execution_count": 8
  }
 ],
 "metadata": {
  "kernelspec": {
   "display_name": "Python 3 (ipykernel)",
   "language": "python",
   "name": "python3"
  },
  "language_info": {
   "codemirror_mode": {
    "name": "ipython",
    "version": 3
   },
   "file_extension": ".py",
   "mimetype": "text/x-python",
   "name": "python",
   "nbconvert_exporter": "python",
   "pygments_lexer": "ipython3",
   "version": "3.8.18"
  }
 },
 "nbformat": 4,
 "nbformat_minor": 5
}
