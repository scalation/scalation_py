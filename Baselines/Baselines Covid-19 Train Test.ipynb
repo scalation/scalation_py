{
 "cells": [
  {
   "cell_type": "code",
   "execution_count": 1,
   "id": "80098051",
   "metadata": {
    "ExecuteTime": {
     "end_time": "2024-06-11T20:30:34.038754Z",
     "start_time": "2024-06-11T20:30:26.601962Z"
    }
   },
   "outputs": [],
   "source": [
    "import random\n",
    "random.seed(10)\n",
    "from util.tools import dotdict\n",
    "from modeling.statmodeling.ar import AR\n",
    "from modeling.statmodeling.arima import ARIMA\n",
    "from modeling.statmodeling.sarima import SARIMA"
   ]
  },
  {
   "cell_type": "code",
   "outputs": [],
   "source": [],
   "metadata": {
    "collapsed": false,
    "ExecuteTime": {
     "end_time": "2024-06-11T20:30:34.061612Z",
     "start_time": "2024-06-11T20:30:34.039012Z"
    }
   },
   "id": "1c174b5e7f6fa31c",
   "execution_count": 1
  },
  {
   "cell_type": "code",
   "outputs": [
    {
     "name": "stdout",
     "output_type": "stream",
     "text": [
      "\u001B[1mAR(10)\u001B[0m\n",
      "\u001B[1mTarget:\u001B[0m new_deaths \u001B[1mMax Horizons:\u001B[0m 6\n",
      "Train Mean:  8424.652 Train Standard Deviation:  5634.152\n",
      "Out of Sample QoF for new_deaths\n",
      "      mse_normalized  mae_normalized  smape_original\n",
      "1              0.065           0.206          14.819\n",
      "2              0.207           0.352          20.114\n",
      "3              0.382           0.437          26.152\n",
      "4              0.615           0.597          37.739\n",
      "5              0.745           0.662          40.383\n",
      "6              0.978           0.821          49.701\n",
      "Avg.           0.498           0.512          31.485\n",
      "Total Time:0.039273977279663086 seconds. \n"
     ]
    }
   ],
   "source": [
    "exp = 1\n",
    "args = dotdict()\n",
    "for i in range(exp):\n",
    "    args.file_name = '~/projects/scalation_py/datasets/covid/national_covid_weekly.csv'\n",
    "    args.dataset = 'COVID-19'\n",
    "    args.training_ratio = 0.8\n",
    "    args.max_horizon = 6\n",
    "    args.normalization = True\n",
    "    args.inverse_transform = args.normalization\n",
    "    args.p = random.randint(10, 10)\n",
    "    args.model_name = f'AR({args.p})'\n",
    "    args.target = 'new_deaths'\n",
    "    args.forecast_type = 'point'\n",
    "    args.validation = 'Train Test Validation'\n",
    "    args.rolling = True\n",
    "    args.trend = random.choice(['c'])\n",
    "    args.horizons = [1, 2, 3, 4, 5, 6]\n",
    "    model = AR(args)\n",
    "    forecasts, forecasts_original = model.train_test()    "
   ],
   "metadata": {
    "collapsed": false,
    "ExecuteTime": {
     "end_time": "2024-06-11T20:30:37.290336Z",
     "start_time": "2024-06-11T20:30:34.061314Z"
    }
   },
   "id": "ed65b16899372734",
   "execution_count": 2
  },
  {
   "cell_type": "code",
   "outputs": [],
   "source": [],
   "metadata": {
    "collapsed": false,
    "ExecuteTime": {
     "end_time": "2024-06-11T20:30:37.332260Z",
     "start_time": "2024-06-11T20:30:37.296303Z"
    }
   },
   "id": "e06d192f7c8330a5",
   "execution_count": 2
  },
  {
   "cell_type": "code",
   "outputs": [
    {
     "name": "stdout",
     "output_type": "stream",
     "text": [
      "\u001B[1mARIMA(10,0,1)\u001B[0m\n",
      "\u001B[1mTarget:\u001B[0m new_deaths \u001B[1mMax Horizons:\u001B[0m 6\n",
      "Train Mean:  8424.652 Train Standard Deviation:  5634.152\n",
      "Out of Sample QoF for new_deaths\n",
      "      mse_normalized  mae_normalized  smape_original\n",
      "1              0.062           0.205          15.857\n",
      "2              0.180           0.321          19.443\n",
      "3              0.341           0.452          28.435\n",
      "4              0.560           0.572          36.794\n",
      "5              0.681           0.654          43.575\n",
      "6              0.870           0.771          51.834\n",
      "Avg.           0.449           0.496          32.656\n",
      "Total Time:1.0935070514678955 seconds. \n"
     ]
    }
   ],
   "source": [
    "exp = 1\n",
    "args = dotdict()\n",
    "for i in range(exp):\n",
    "    args.file_name = '~/projects/scalation_py/datasets/covid/national_covid_weekly.csv'\n",
    "    args.dataset = 'COVID-19'\n",
    "    args.training_ratio = 0.8\n",
    "    args.max_horizon = 6\n",
    "    args.normalization = True\n",
    "    args.inverse_transform = args.normalization\n",
    "    args.p = random.randint(10, 10)\n",
    "    args.d = random.randint(0, 0)\n",
    "    args.q = random.randint(1, 1)\n",
    "    args.model_name = f'ARIMA({args.p},{args.d},{args.q})'\n",
    "    args.target = 'new_deaths'\n",
    "    args.forecast_type = 'point'\n",
    "    args.validation = 'Train Test Validation'\n",
    "    if args.d > 0:\n",
    "        args.trend = random.choice(['n'])\n",
    "    else:\n",
    "        args.trend = random.choice(['c'])\n",
    "    args.horizons = [1, 2, 3, 4, 5, 6]\n",
    "    model = ARIMA(args)\n",
    "    forecasts, forecasts_original = model.train_test()    "
   ],
   "metadata": {
    "collapsed": false,
    "ExecuteTime": {
     "end_time": "2024-06-11T20:30:41.503564Z",
     "start_time": "2024-06-11T20:30:37.343085Z"
    }
   },
   "id": "d9d9f03e0757ca9",
   "execution_count": 3
  },
  {
   "cell_type": "code",
   "outputs": [],
   "source": [],
   "metadata": {
    "collapsed": false,
    "ExecuteTime": {
     "end_time": "2024-06-11T20:30:41.509726Z",
     "start_time": "2024-06-11T20:30:41.497820Z"
    }
   },
   "id": "40c62bb2185db20a",
   "execution_count": 3
  },
  {
   "cell_type": "code",
   "outputs": [
    {
     "name": "stdout",
     "output_type": "stream",
     "text": [
      "\u001B[1mSARIMA(10,0,1,2,0,0,13)\u001B[0m\n",
      "\u001B[1mTarget:\u001B[0m new_deaths \u001B[1mMax Horizons:\u001B[0m 6\n",
      "Train Mean:  8424.652 Train Standard Deviation:  5634.152\n",
      "Out of Sample QoF for new_deaths\n",
      "      mse_normalized  mae_normalized  smape_original\n",
      "1              0.056           0.177          11.954\n",
      "2              0.199           0.322          18.092\n",
      "3              0.380           0.445          22.511\n",
      "4              0.593           0.573          32.794\n",
      "5              0.752           0.660          38.543\n",
      "6              0.977           0.800          48.776\n",
      "Avg.           0.493           0.496          28.778\n",
      "Total Time:1.9929721355438232 seconds. \n"
     ]
    }
   ],
   "source": [
    "exp = 1\n",
    "args = dotdict()\n",
    "for i in range(exp):\n",
    "    args.file_name = '~/projects/scalation_py/datasets/covid/national_covid_weekly.csv'\n",
    "    args.dataset = 'COVID-19'\n",
    "    args.training_ratio = 0.8\n",
    "    args.max_horizon = 6\n",
    "    args.normalization = True\n",
    "    args.inverse_transform = args.normalization\n",
    "    args.p = random.randint(10, 10)\n",
    "    args.d = random.randint(0, 0)\n",
    "    args.q = random.randint(1, 1)\n",
    "    args.P = random.randint(2, 2)\n",
    "    args.D = random.randint(0, 0)\n",
    "    args.Q = random.randint(0, 0)\n",
    "    args.s = random.choice([13])\n",
    "    args.model_name = f'SARIMA({args.p},{args.d},{args.q},{args.P},{args.D},{args.Q},{args.s})'\n",
    "    args.target = 'new_deaths'\n",
    "    args.forecast_type = 'point'\n",
    "    args.validation = 'Train Test Validation'\n",
    "    if args.d > 0 or args.D > 0:\n",
    "        args.trend = random.choice(['n'])\n",
    "    else:\n",
    "        args.trend = random.choice(['c'])\n",
    "    args.horizons = [1, 2, 3, 4, 5, 6]\n",
    "    model = SARIMA(args)\n",
    "    forecasts, forecasts_original = model.train_test()    "
   ],
   "metadata": {
    "collapsed": false,
    "ExecuteTime": {
     "end_time": "2024-06-11T20:30:45.440246Z",
     "start_time": "2024-06-11T20:30:41.545707Z"
    }
   },
   "id": "b4ed92bae84e5753",
   "execution_count": 4
  },
  {
   "cell_type": "code",
   "outputs": [],
   "source": [],
   "metadata": {
    "collapsed": false,
    "ExecuteTime": {
     "end_time": "2024-06-11T20:30:45.471942Z",
     "start_time": "2024-06-11T20:30:45.444188Z"
    }
   },
   "id": "77ff362710ef60da",
   "execution_count": 4
  }
 ],
 "metadata": {
  "kernelspec": {
   "display_name": "Python 3 (ipykernel)",
   "language": "python",
   "name": "python3"
  },
  "language_info": {
   "codemirror_mode": {
    "name": "ipython",
    "version": 3
   },
   "file_extension": ".py",
   "mimetype": "text/x-python",
   "name": "python",
   "nbconvert_exporter": "python",
   "pygments_lexer": "ipython3",
   "version": "3.8.18"
  }
 },
 "nbformat": 4,
 "nbformat_minor": 5
}
