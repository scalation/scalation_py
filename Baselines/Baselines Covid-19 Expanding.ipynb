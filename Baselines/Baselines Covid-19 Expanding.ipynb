{
 "cells": [
  {
   "cell_type": "code",
   "execution_count": 1,
   "id": "80098051",
   "metadata": {
    "ExecuteTime": {
     "end_time": "2024-06-11T20:38:46.351621Z",
     "start_time": "2024-06-11T20:38:40.491711Z"
    }
   },
   "outputs": [],
   "source": [
    "import random\n",
    "random.seed(10)\n",
    "from util.tools import dotdict\n",
    "from modeling.statmodeling.random_walk import RandomWalk\n",
    "from modeling.statmodeling.simple_moving_evarege import SimpleMovingAverage\n",
    "from modeling.statmodeling.null_model import NullModel\n",
    "from modeling.statmodeling.ar import AR\n",
    "from modeling.statmodeling.arima import ARIMA\n",
    "from modeling.statmodeling.sarima import SARIMA"
   ]
  },
  {
   "cell_type": "code",
   "outputs": [],
   "source": [],
   "metadata": {
    "collapsed": false,
    "ExecuteTime": {
     "end_time": "2024-06-11T20:38:46.363740Z",
     "start_time": "2024-06-11T20:38:46.353664Z"
    }
   },
   "id": "1c174b5e7f6fa31c",
   "execution_count": 1
  },
  {
   "cell_type": "code",
   "outputs": [
    {
     "name": "stdout",
     "output_type": "stream",
     "text": [
      "\u001B[1mRandom Walk\u001B[0m\n",
      "\u001B[1mTarget:\u001B[0m new_deaths \u001B[1mMax Horizons:\u001B[0m 6\n",
      "Train Mean:  8424.652 Train Standard Deviation:  5634.152\n",
      "Out of Sample QoF for new_deaths\n",
      "      mse_normalized  mae_normalized  smape_original\n",
      "1              0.098           0.263          18.153\n",
      "2              0.304           0.454          27.567\n",
      "3              0.572           0.623          38.031\n",
      "4              0.899           0.775          47.058\n",
      "5              1.203           0.914          54.719\n",
      "6              1.572           1.073          63.561\n",
      "Avg.           0.775           0.684          41.515\n",
      "Total Time:0.0061359405517578125 seconds. \n"
     ]
    }
   ],
   "source": [
    "args = dotdict()\n",
    "args.file_name = '~/projects/scalation_py/datasets/covid/national_covid_weekly.csv'\n",
    "args.dataset = 'COVID-19'\n",
    "args.training_ratio = 0.8\n",
    "args.max_horizon = 6\n",
    "args.normalization = True\n",
    "args.inverse_transform = args.normalization\n",
    "args.model_name = 'Random Walk'\n",
    "args.target = 'new_deaths'\n",
    "args.forecast_type = 'point'\n",
    "args.validation = 'Expanding Validation'\n",
    "args.horizons = [1, 2, 3, 4, 5, 6]\n",
    "model = RandomWalk(args)\n",
    "forecasts, forecasts_original = model.rolling_validation()"
   ],
   "metadata": {
    "collapsed": false,
    "ExecuteTime": {
     "end_time": "2024-06-11T20:38:48.402141Z",
     "start_time": "2024-06-11T20:38:46.369041Z"
    }
   },
   "id": "f9cf65eee07eee8f",
   "execution_count": 2
  },
  {
   "cell_type": "code",
   "outputs": [],
   "source": [],
   "metadata": {
    "collapsed": false,
    "ExecuteTime": {
     "end_time": "2024-06-11T20:38:48.409493Z",
     "start_time": "2024-06-11T20:38:48.400698Z"
    }
   },
   "id": "75a78a885eb8cfce",
   "execution_count": 2
  },
  {
   "cell_type": "code",
   "outputs": [
    {
     "name": "stdout",
     "output_type": "stream",
     "text": [
      "\u001B[1mNull Model\u001B[0m\n",
      "\u001B[1mTarget:\u001B[0m new_deaths \u001B[1mMax Horizons:\u001B[0m 6\n",
      "Train Mean:  8424.652 Train Standard Deviation:  5634.152\n",
      "Out of Sample QoF for new_deaths\n",
      "      mse_normalized  mae_normalized  smape_original\n",
      "1               0.94           0.809          54.895\n",
      "2               0.94           0.809          54.895\n",
      "3               0.94           0.809          54.895\n",
      "4               0.94           0.809          54.895\n",
      "5               0.94           0.809          54.895\n",
      "6               0.94           0.809          54.895\n",
      "Avg.            0.94           0.809          54.895\n",
      "Total Time:0.0003159046173095703 seconds. \n"
     ]
    }
   ],
   "source": [
    "args = dotdict()\n",
    "args.file_name = '~/projects/scalation_py/datasets/covid/national_covid_weekly.csv'\n",
    "args.dataset = 'COVID-19'\n",
    "args.training_ratio = 0.8\n",
    "args.max_horizon = 6\n",
    "args.normalization = True\n",
    "args.inverse_transform = args.normalization\n",
    "args.model_name = 'Null Model'\n",
    "args.target = 'new_deaths'\n",
    "args.forecast_type = 'point' \n",
    "args.validation = 'Expanding Validation'\n",
    "args.horizons = [1, 2, 3, 4, 5, 6]\n",
    "model = NullModel(args)\n",
    "forecasts, forecasts_original = model.rolling_validation()"
   ],
   "metadata": {
    "collapsed": false,
    "ExecuteTime": {
     "end_time": "2024-06-11T20:38:51.445760Z",
     "start_time": "2024-06-11T20:38:48.417901Z"
    }
   },
   "id": "378405b465943b2e",
   "execution_count": 3
  },
  {
   "cell_type": "code",
   "outputs": [],
   "source": [],
   "metadata": {
    "collapsed": false,
    "ExecuteTime": {
     "end_time": "2024-06-11T20:38:51.448223Z",
     "start_time": "2024-06-11T20:38:51.436649Z"
    }
   },
   "id": "2f75d1b3a82963ea",
   "execution_count": 3
  },
  {
   "cell_type": "code",
   "outputs": [
    {
     "name": "stdout",
     "output_type": "stream",
     "text": [
      "\u001B[1mSimple Moving Average(1)\u001B[0m\n",
      "\u001B[1mTarget:\u001B[0m new_deaths \u001B[1mMax Horizons:\u001B[0m 6\n",
      "Train Mean:  8424.652 Train Standard Deviation:  5634.152\n",
      "Total Time:0.019634246826171875 seconds. \n",
      "\n",
      "      mse_normalized  mae_normalized  smape_original\n",
      "1              0.098           0.263          18.153\n",
      "2              0.304           0.454          27.567\n",
      "3              0.572           0.623          38.031\n",
      "4              0.899           0.775          47.058\n",
      "5              1.203           0.914          54.719\n",
      "6              1.572           1.073          63.561\n",
      "Avg.           0.775           0.684          41.515\n",
      "Total Time:0.019634246826171875 seconds. \n",
      "\n",
      "\u001B[1mSimple Moving Average(2)\u001B[0m\n",
      "\u001B[1mTarget:\u001B[0m new_deaths \u001B[1mMax Horizons:\u001B[0m 6\n",
      "Train Mean:  8424.652 Train Standard Deviation:  5634.152\n",
      "Total Time:0.019498825073242188 seconds. \n",
      "\n",
      "      mse_normalized  mae_normalized  smape_original\n",
      "1              0.173           0.344          22.083\n",
      "2              0.407           0.516          31.820\n",
      "3              0.704           0.680          41.585\n",
      "4              1.019           0.835          50.371\n",
      "5              1.354           0.980          58.374\n",
      "6              1.688           1.103          64.779\n",
      "Avg.           0.891           0.743          44.835\n",
      "Total Time:0.019498825073242188 seconds. \n",
      "\n",
      "\u001B[1mSimple Moving Average(3)\u001B[0m\n",
      "\u001B[1mTarget:\u001B[0m new_deaths \u001B[1mMax Horizons:\u001B[0m 6\n",
      "Train Mean:  8424.652 Train Standard Deviation:  5634.152\n",
      "Total Time:0.0209500789642334 seconds. \n",
      "\n",
      "      mse_normalized  mae_normalized  smape_original\n",
      "1              0.264           0.413          26.014\n",
      "2              0.529           0.591          36.563\n",
      "3              0.828           0.744          45.658\n",
      "4              1.159           0.904          54.465\n",
      "5              1.482           1.028          61.183\n",
      "6              1.785           1.140          66.570\n",
      "Avg.           1.008           0.803          48.409\n",
      "Total Time:0.0209500789642334 seconds. \n",
      "\n",
      "\u001B[1mSimple Moving Average(4)\u001B[0m\n",
      "\u001B[1mTarget:\u001B[0m new_deaths \u001B[1mMax Horizons:\u001B[0m 6\n",
      "Train Mean:  8424.652 Train Standard Deviation:  5634.152\n",
      "Total Time:0.022643327713012695 seconds. \n",
      "\n",
      "      mse_normalized  mae_normalized  smape_original\n",
      "1              0.371           0.492          31.122\n",
      "2              0.646           0.664          41.310\n",
      "3              0.960           0.822          50.404\n",
      "4              1.282           0.957          57.704\n",
      "5              1.585           1.069          63.400\n",
      "6              1.870           1.169          68.012\n",
      "Avg.           1.119           0.862          51.992\n",
      "Total Time:0.022643327713012695 seconds. \n",
      "\n",
      "\u001B[1mSimple Moving Average(5)\u001B[0m\n",
      "\u001B[1mTarget:\u001B[0m new_deaths \u001B[1mMax Horizons:\u001B[0m 6\n",
      "Train Mean:  8424.652 Train Standard Deviation:  5634.152\n",
      "Total Time:0.019469738006591797 seconds. \n",
      "\n",
      "      mse_normalized  mae_normalized  smape_original\n",
      "1              0.476           0.570          36.304\n",
      "2              0.768           0.731          45.796\n",
      "3              1.079           0.882          54.223\n",
      "4              1.385           0.996          60.191\n",
      "5              1.673           1.104          65.348\n",
      "6              1.932           1.196          69.276\n",
      "Avg.           1.219           0.913          55.190\n",
      "Total Time:0.019469738006591797 seconds. \n",
      "\n",
      "\u001B[1mSimple Moving Average(6)\u001B[0m\n",
      "\u001B[1mTarget:\u001B[0m new_deaths \u001B[1mMax Horizons:\u001B[0m 6\n",
      "Train Mean:  8424.652 Train Standard Deviation:  5634.152\n",
      "Total Time:0.04987215995788574 seconds. \n",
      "\n",
      "      mse_normalized  mae_normalized  smape_original\n",
      "1              0.590           0.636          40.994\n",
      "2              0.883           0.796          50.026\n",
      "3              1.182           0.926          57.058\n",
      "4              1.474           1.036          62.570\n",
      "5              1.740           1.137          67.066\n",
      "6              1.969           1.214          70.116\n",
      "Avg.           1.306           0.958          57.972\n",
      "Total Time:0.04987215995788574 seconds. \n"
     ]
    }
   ],
   "source": [
    "windows = [1,2,3,4,5,6]\n",
    "for w in windows:\n",
    "    args = dotdict()\n",
    "    args.file_name = '~/projects/scalation_py/datasets/covid/national_covid_weekly.csv'\n",
    "    args.dataset = 'COVID-19'\n",
    "    args.training_ratio = 0.8\n",
    "    args.max_horizon = 6\n",
    "    args.normalization = True\n",
    "    args.inverse_transform = args.normalization\n",
    "    args.model_name = 'Simple Moving Average('+str(w)+')'\n",
    "    args.window = w\n",
    "    args.target = 'new_deaths'\n",
    "    args.forecast_type = 'point' \n",
    "    args.validation = 'Expanding Validation'\n",
    "    args.horizons = [1, 2, 3, 4, 5, 6]\n",
    "    model = SimpleMovingAverage(args)\n",
    "    forecasts, forecasts_original = model.rolling_validation()"
   ],
   "metadata": {
    "collapsed": false,
    "ExecuteTime": {
     "end_time": "2024-06-11T20:39:09.245590Z",
     "start_time": "2024-06-11T20:38:51.456271Z"
    }
   },
   "id": "d76155ab58c8ee41",
   "execution_count": 4
  },
  {
   "cell_type": "code",
   "outputs": [],
   "source": [],
   "metadata": {
    "collapsed": false,
    "ExecuteTime": {
     "end_time": "2024-06-11T20:39:09.259172Z",
     "start_time": "2024-06-11T20:39:09.239439Z"
    }
   },
   "id": "ebf6e166d992bb1b",
   "execution_count": 4
  },
  {
   "cell_type": "code",
   "outputs": [
    {
     "name": "stdout",
     "output_type": "stream",
     "text": [
      "\u001B[1mAR(6)\u001B[0m\n",
      "\u001B[1mTarget:\u001B[0m new_deaths \u001B[1mMax Horizons:\u001B[0m 6\n",
      "Train Mean:  8424.652 Train Standard Deviation:  5634.152\n",
      "Out of Sample QoF for new_deaths\n",
      "      mse_normalized  mae_normalized  smape_original\n",
      "1              0.074           0.215          15.972\n",
      "2              0.214           0.372          24.070\n",
      "3              0.361           0.465          29.834\n",
      "4              0.569           0.599          39.201\n",
      "5              0.660           0.662          42.585\n",
      "6              0.849           0.795          51.333\n",
      "Avg.           0.455           0.518          33.832\n",
      "Total Time:0.11362218856811523 seconds. \n"
     ]
    }
   ],
   "source": [
    "exp = 1\n",
    "args = dotdict()\n",
    "for i in range(exp):\n",
    "    args.file_name = '~/projects/scalation_py/datasets/covid/national_covid_weekly.csv'\n",
    "    args.dataset = 'COVID-19'\n",
    "    args.training_ratio = 0.8\n",
    "    args.max_horizon = 6\n",
    "    args.normalization = True\n",
    "    args.inverse_transform = args.normalization\n",
    "    args.p = random.randint(6, 6)\n",
    "    args.model_name = f'AR({args.p})'\n",
    "    args.target = 'new_deaths'\n",
    "    args.forecast_type = 'point'\n",
    "    args.validation = 'Expanding Validation'\n",
    "    args.rolling = False\n",
    "    args.trend = random.choice(['c'])\n",
    "    args.horizons = [1, 2, 3, 4, 5, 6]\n",
    "    model = AR(args)\n",
    "    forecasts, forecasts_original = model.rolling_validation()"
   ],
   "metadata": {
    "collapsed": false,
    "ExecuteTime": {
     "end_time": "2024-06-11T20:39:12.691629Z",
     "start_time": "2024-06-11T20:39:09.285316Z"
    }
   },
   "id": "ed65b16899372734",
   "execution_count": 5
  },
  {
   "cell_type": "code",
   "outputs": [],
   "source": [],
   "metadata": {
    "collapsed": false,
    "ExecuteTime": {
     "end_time": "2024-06-11T20:39:12.699621Z",
     "start_time": "2024-06-11T20:39:12.687305Z"
    }
   },
   "id": "ec39445c2c76cd47",
   "execution_count": 5
  },
  {
   "cell_type": "code",
   "outputs": [
    {
     "name": "stdout",
     "output_type": "stream",
     "text": [
      "\u001B[1mARIMA(6,0,4)\u001B[0m\n",
      "\u001B[1mTarget:\u001B[0m new_deaths \u001B[1mMax Horizons:\u001B[0m 6\n",
      "Train Mean:  8424.652 Train Standard Deviation:  5634.152\n",
      "Out of Sample QoF for new_deaths\n",
      "      mse_normalized  mae_normalized  smape_original\n",
      "1              0.071           0.216          16.875\n",
      "2              0.219           0.380          24.709\n",
      "3              0.380           0.480          31.873\n",
      "4              0.589           0.602          39.741\n",
      "5              0.659           0.647          41.791\n",
      "6              0.814           0.767          49.713\n",
      "Avg.           0.455           0.515          34.117\n",
      "Total Time:16.859446048736572 seconds. \n"
     ]
    }
   ],
   "source": [
    "exp = 1\n",
    "args = dotdict()\n",
    "for i in range(exp):\n",
    "    args.file_name = '~/projects/scalation_py/datasets/covid/national_covid_weekly.csv'\n",
    "    args.dataset = 'COVID-19'\n",
    "    args.training_ratio = 0.8\n",
    "    args.max_horizon = 6\n",
    "    args.normalization = True\n",
    "    args.inverse_transform = args.normalization\n",
    "    args.p = random.randint(6, 6)\n",
    "    args.d = random.randint(0, 0)\n",
    "    args.q = random.randint(4, 4)\n",
    "    args.model_name = f'ARIMA({args.p},{args.d},{args.q})'\n",
    "    args.target = 'new_deaths'\n",
    "    args.forecast_type = 'point'\n",
    "    args.validation = 'Expanding Validation'\n",
    "    args.rolling = False\n",
    "    if args.d > 0:\n",
    "        args.trend = random.choice(['n'])\n",
    "    else:\n",
    "        args.trend = random.choice(['c'])\n",
    "    args.horizons = [1, 2, 3, 4, 5, 6]\n",
    "    model = ARIMA(args)\n",
    "    forecasts, forecasts_original = model.rolling_validation()"
   ],
   "metadata": {
    "collapsed": false,
    "ExecuteTime": {
     "end_time": "2024-06-11T20:39:32.493548Z",
     "start_time": "2024-06-11T20:39:12.704895Z"
    }
   },
   "id": "d9d9f03e0757ca9",
   "execution_count": 6
  },
  {
   "cell_type": "code",
   "outputs": [],
   "source": [],
   "metadata": {
    "collapsed": false,
    "ExecuteTime": {
     "end_time": "2024-06-11T20:39:32.494641Z",
     "start_time": "2024-06-11T20:39:32.487459Z"
    }
   },
   "id": "23f3c83860deb9bb",
   "execution_count": 6
  },
  {
   "cell_type": "code",
   "outputs": [
    {
     "name": "stdout",
     "output_type": "stream",
     "text": [
      "\u001B[1mSARIMA(6,0,4,1,0,1,26)\u001B[0m\n",
      "\u001B[1mTarget:\u001B[0m new_deaths \u001B[1mMax Horizons:\u001B[0m 6\n",
      "Train Mean:  8424.652 Train Standard Deviation:  5634.152\n",
      "Out of Sample QoF for new_deaths\n",
      "      mse_normalized  mae_normalized  smape_original\n",
      "1              0.078           0.211          13.813\n",
      "2              0.236           0.370          22.440\n",
      "3              0.383           0.441          26.190\n",
      "4              0.596           0.572          34.685\n",
      "5              0.733           0.636          38.072\n",
      "6              0.965           0.790          47.716\n",
      "Avg.           0.498           0.503          30.486\n",
      "Total Time:65.05457186698914 seconds. \n"
     ]
    }
   ],
   "source": [
    "exp = 1\n",
    "args = dotdict()\n",
    "for i in range(exp):\n",
    "    args.file_name = '~/projects/scalation_py/datasets/covid/national_covid_weekly.csv'\n",
    "    args.dataset = 'COVID-19'\n",
    "    args.training_ratio = 0.8\n",
    "    args.max_horizon = 6\n",
    "    args.normalization = True\n",
    "    args.inverse_transform = args.normalization\n",
    "    args.p = random.randint(6, 6)\n",
    "    args.d = random.randint(0, 0)\n",
    "    args.q = random.randint(4, 4)\n",
    "    args.P = random.randint(1, 1)\n",
    "    args.D = random.randint(0, 0)\n",
    "    args.Q = random.randint(1, 1)\n",
    "    args.s = random.choice([26])\n",
    "    args.model_name = f'SARIMA({args.p},{args.d},{args.q},{args.P},{args.D},{args.Q},{args.s})'\n",
    "    args.target = 'new_deaths'\n",
    "    args.forecast_type = 'point'\n",
    "    args.validation = 'Expanding Validation'\n",
    "    args.rolling = False\n",
    "    if args.d > 0 or args.D > 0:\n",
    "        args.trend = random.choice(['n'])\n",
    "    else:\n",
    "        args.trend = random.choice(['c'])\n",
    "    args.horizons = [1, 2, 3, 4, 5, 6]\n",
    "    model = SARIMA(args)\n",
    "    forecasts, forecasts_original = model.rolling_validation()"
   ],
   "metadata": {
    "collapsed": false,
    "ExecuteTime": {
     "end_time": "2024-06-11T20:40:40.181925Z",
     "start_time": "2024-06-11T20:39:32.495613Z"
    }
   },
   "id": "b4ed92bae84e5753",
   "execution_count": 7
  },
  {
   "cell_type": "code",
   "outputs": [],
   "source": [],
   "metadata": {
    "collapsed": false,
    "ExecuteTime": {
     "end_time": "2024-06-11T20:40:40.186558Z",
     "start_time": "2024-06-11T20:40:40.178836Z"
    }
   },
   "id": "e3d89471cb44609c",
   "execution_count": 7
  }
 ],
 "metadata": {
  "kernelspec": {
   "display_name": "Python 3 (ipykernel)",
   "language": "python",
   "name": "python3"
  },
  "language_info": {
   "codemirror_mode": {
    "name": "ipython",
    "version": 3
   },
   "file_extension": ".py",
   "mimetype": "text/x-python",
   "name": "python",
   "nbconvert_exporter": "python",
   "pygments_lexer": "ipython3",
   "version": "3.8.18"
  }
 },
 "nbformat": 4,
 "nbformat_minor": 5
}
