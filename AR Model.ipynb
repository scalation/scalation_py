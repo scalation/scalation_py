{
 "cells": [
  {
   "cell_type": "code",
   "outputs": [],
   "source": [
    "from modeling.statmodeling.AR import AR\n",
    "from util.tools import dotdict\n",
    "from util.metrics import get_metrics\n",
    "from util.data_visualization import plot_time_series, plot_acf, plot_pacf, plot_seasonal_difference"
   ],
   "metadata": {
    "collapsed": false
   },
   "id": "83bfc21db097fd8e",
   "execution_count": null
  },
  {
   "cell_type": "code",
   "outputs": [],
   "source": [],
   "metadata": {
    "collapsed": false
   },
   "id": "47d3cb32e5774b92",
   "execution_count": null
  },
  {
   "cell_type": "code",
   "outputs": [],
   "source": [
    "args = dotdict()\n",
    "args.file_name = 'https://raw.githubusercontent.com/scalation/data/master/COVID/covid_weekly.csv'\n",
    "args.MO = 'new_deaths'\n",
    "args.diff_order = None\n",
    "args.lags = 50 \n",
    "\n",
    "plot_time_series(file_name = args.file_name, main_output = args.MO)\n",
    "\n",
    "plot_acf(file_name = args.file_name, main_output = args.MO, lags = args.lags, diff_order = args.diff_order)\n",
    "\n",
    "plot_pacf(file_name = args.file_name, main_output = args.MO, lags = args.lags, diff_order = args.diff_order)"
   ],
   "metadata": {
    "collapsed": false
   },
   "id": "7e10a43762889317",
   "execution_count": null
  },
  {
   "cell_type": "code",
   "outputs": [],
   "source": [],
   "metadata": {
    "collapsed": false
   },
   "id": "9452d2847e145fe7",
   "execution_count": null
  },
  {
   "cell_type": "code",
   "outputs": [],
   "source": [
    "args = dotdict()\n",
    "args.file_name = 'https://raw.githubusercontent.com/scalation/data/master/COVID/covid_weekly.csv'\n",
    "args.training_ratio = 0.5\n",
    "args.horizon = 4\n",
    "args.MO = 'new_deaths'\n",
    "args.normalization = False\n",
    "args.p = 1\n",
    "args.model = 'AR('+str(args.p)+')'\n",
    "args.vis_h = 1\n",
    "args.last_only = False\n",
    "args.inverse_transform = False\n",
    "args.trend = 'n'\n",
    "actual, forecasts, model_ar = AR(file_name = args.file_name, training_ratio = args.training_ratio,\n",
    "                                horizon = args.horizon, main_output = args.MO,\n",
    "                                normalization = args.normalization, model = args.model, \n",
    "                                p = args.p, vis_h = args.vis_h, last_only = args.LTSF, \n",
    "                                inverse_transform = args.inverse_transform, trend = args.trend)\n",
    "get_metrics(actual = actual, forecasts = forecasts, args = args)"
   ],
   "metadata": {
    "collapsed": false
   },
   "id": "3eca42f20949652a",
   "execution_count": null
  },
  {
   "cell_type": "code",
   "outputs": [],
   "source": [],
   "metadata": {
    "collapsed": false
   },
   "id": "4947ed3bf78a3d8c",
   "execution_count": null
  },
  {
   "cell_type": "code",
   "outputs": [],
   "source": [
    "model_ar.summary()"
   ],
   "metadata": {
    "collapsed": false
   },
   "id": "3fda80d2caadb77b",
   "execution_count": null
  },
  {
   "cell_type": "code",
   "outputs": [],
   "source": [],
   "metadata": {
    "collapsed": false
   },
   "id": "2cd8029ed59f3bdd"
  }
 ],
 "metadata": {
  "kernelspec": {
   "display_name": "Python 3",
   "language": "python",
   "name": "python3"
  },
  "language_info": {
   "codemirror_mode": {
    "name": "ipython",
    "version": 2
   },
   "file_extension": ".py",
   "mimetype": "text/x-python",
   "name": "python",
   "nbconvert_exporter": "python",
   "pygments_lexer": "ipython2",
   "version": "2.7.6"
  }
 },
 "nbformat": 4,
 "nbformat_minor": 5
}
