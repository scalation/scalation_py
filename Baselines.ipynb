{
 "cells": [
  {
   "cell_type": "code",
   "execution_count": null,
   "id": "80098051",
   "metadata": {},
   "outputs": [],
   "source": [
    "import numpy as np\n",
    "from util.tools import dotdict\n",
    "from modeling.statmodeling.RandomWalk import RandomWalk\n",
    "from modeling.statmodeling.MeanModel import MeanModel\n",
    "from util.metrics import get_metrics\n",
    "from modeling.statmodeling.SimpleMovingAverage import SimpleMovingAverage"
   ]
  },
  {
   "cell_type": "code",
   "outputs": [],
   "source": [],
   "metadata": {
    "collapsed": false
   },
   "id": "6525cad418630c1e",
   "execution_count": null
  },
  {
   "cell_type": "code",
   "execution_count": null,
   "id": "31ddaffa",
   "metadata": {
    "scrolled": true
   },
   "outputs": [],
   "source": [
    "args = dotdict()\n",
    "args.file_name = 'datasets/covid/.~OWID_weekly.csv'\n",
    "args.training_ratio = 0.5\n",
    "args.horizon = 4\n",
    "args.MO = 'new_deaths'\n",
    "args.normalization = False\n",
    "args.model = 'RandomWalk'\n",
    "args.vis_h = 4\n",
    "args.LTSF = False\n",
    "args.inverse_transform = False\n",
    "\n",
    "actual, forecasts = RandomWalk(file_name = args.file_name, training_ratio = args.training_ratio,\n",
    "                                horizon = args.horizon, main_output = args.MO,\n",
    "                                normalization = args.normalization, model = args.model, \n",
    "                                 vis_h = args.vis_h,LTSF = args.LTSF, \n",
    "                                inverse_transform = args.inverse_transform)\n",
    "get_metrics(actual, forecasts, args)"
   ]
  },
  {
   "cell_type": "code",
   "outputs": [],
   "source": [],
   "metadata": {
    "collapsed": false
   },
   "id": "2bfa385204da91fe"
  },
  {
   "cell_type": "code",
   "execution_count": null,
   "id": "dff3c225",
   "metadata": {},
   "outputs": [],
   "source": [
    "args = dotdict()\n",
    "args.file_name = 'datasets/covid/.~OWID_weekly.csv'\n",
    "args.training_ratio = 0.8\n",
    "args.horizon = 4\n",
    "args.MO = 'new_deaths'\n",
    "args.normalization = False\n",
    "args.model = 'MeanModel'\n",
    "args.vis_h = 4\n",
    "args.LTSF = False\n",
    "args.inverse_transform = False\n",
    "\n",
    "actual, forecasts = MeanModel(file_name = args.file_name, training_ratio = args.training_ratio,\n",
    "                                horizon = args.horizon, main_output = args.MO,\n",
    "                                normalization = args.normalization, model = args.model, \n",
    "                                 vis_h = args.vis_h,LTSF = args.LTSF, \n",
    "                                inverse_transform = args.inverse_transform)\n",
    "get_metrics(actual, forecasts, args)"
   ]
  },
  {
   "cell_type": "code",
   "execution_count": null,
   "id": "8c49fd19",
   "metadata": {},
   "outputs": [],
   "source": [
    "args = dotdict()\n",
    "args.file_name = 'datasets/covid/.~OWID_weekly.csv'\n",
    "args.training_ratio = 0.8\n",
    "args.horizon = 4\n",
    "args.MO = 'new_deaths'\n",
    "args.normalization = False\n",
    "args.model = 'Simple Moving Average'\n",
    "args.vis_h = 4\n",
    "args.LTSF = False\n",
    "args.inverse_transform = False\n",
    "args.window = 1\n",
    "\n",
    "actual, forecasts = SimpleMovingAverage(file_name = args.file_name, training_ratio = args.training_ratio,\n",
    "                                horizon = args.horizon, main_output = args.MO,\n",
    "                                normalization = args.normalization, model = args.model, \n",
    "                                 vis_h = args.vis_h,LTSF = args.LTSF, \n",
    "                                inverse_transform = args.inverse_transform, window = args.window)\n",
    "get_metrics(actual, forecasts, args)"
   ]
  },
  {
   "cell_type": "code",
   "outputs": [],
   "source": [],
   "metadata": {
    "collapsed": false
   },
   "id": "7bed975342195259"
  }
 ],
 "metadata": {
  "kernelspec": {
   "display_name": "Python 3 (ipykernel)",
   "language": "python",
   "name": "python3"
  },
  "language_info": {
   "codemirror_mode": {
    "name": "ipython",
    "version": 3
   },
   "file_extension": ".py",
   "mimetype": "text/x-python",
   "name": "python",
   "nbconvert_exporter": "python",
   "pygments_lexer": "ipython3",
   "version": "3.8.6"
  }
 },
 "nbformat": 4,
 "nbformat_minor": 5
}
