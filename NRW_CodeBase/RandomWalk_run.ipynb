{
 "cells": [
  {
   "cell_type": "code",
   "execution_count": 2,
   "id": "c7a6a9cb",
   "metadata": {},
   "outputs": [],
   "source": [
    "from models.RandomWalk import RandomWalk\n",
    "from data.data_processing import data_processing\n",
    "from data.data_transforms import data_transform_std\n",
    "from data.data_splitting import make_input_output_sequences,train_test_split,shift_sequence\n",
    "import pandas as pd\n",
    "import torch\n",
    "import numpy as np\n",
    "import torch.utils.data as data_utils\n",
    "from utils.metrics import MAE,SMAPE\n",
    "device = torch.device(\"cuda\" if torch.cuda.is_available() else \"cpu\")\n",
    "\n",
    "horizons = 4\n",
    "test_ratio = 0.5\n",
    "file_name = 'datasets/covid_weekly.csv'\n",
    "data = pd.read_csv(file_name)\n",
    "target = 'new_deaths'\n",
    "features = data.columns\n",
    "m = [\"RandomWalk\"]\n",
    "batch_size =32\n",
    "seq_len = 2\n",
    "in_dim = len(features)-1"
   ]
  },
  {
   "cell_type": "code",
   "execution_count": 3,
   "id": "e90a2e59",
   "metadata": {},
   "outputs": [],
   "source": [
    "data, observed = data_processing(file_name, features,target)\n",
    "scalers, df = data_transform_std(data, test_ratio)\n",
    "x, y = make_input_output_sequences(data.values, seq_len, horizons, True)\n",
    "x_train, x_test, y_train, y_test = train_test_split(x, y, test_ratio)\n",
    "model =RandomWalk(seq_len,horizons,in_dim)"
   ]
  },
  {
   "cell_type": "code",
   "execution_count": 6,
   "id": "3f6ad447",
   "metadata": {},
   "outputs": [
    {
     "name": "stdout",
     "output_type": "stream",
     "text": [
      "<class 'torch.Tensor'>\n",
      "[15.13975887763791, 19.46467771762755, 24.743415088188357, 30.11031267119617] 22.364541088662495\n",
      "[807.439, 1160.3903, 1500.1342, 1821.8292] 1322.4481\n",
      "[0.13769867, 0.1978901, 0.2558292, 0.31069028] 0.22552705\n"
     ]
    }
   ],
   "source": [
    "for w in range(x_test.shape[0]):\n",
    "    x_train_tensor = torch.from_numpy(np.array(x_train[:,:,1:], dtype=np.float32)).float().to(device)\n",
    "    y_train_tensor = torch.from_numpy(np.array(y_train[:,:,1:], dtype=np.float32)).float().to(device)\n",
    "    x_test_tensor = torch.from_numpy(np.array(x_test[:,:,1:], dtype=np.float32)).float().to(device)\n",
    "    y_test_tensor= torch.from_numpy(np.array(y_test[:,:,1:], dtype=np.float32)).float().to(device)\n",
    "    train = data_utils.TensorDataset(x_train_tensor, y_train_tensor)\n",
    "    train_loader = data_utils.DataLoader(train, batch_size=batch_size, shuffle=False)\n",
    "    \n",
    "    for epoch in range(20):\n",
    "            for x_t, y_t in train_loader:\n",
    "                y_pred = model(x_t,_,_,_)\n",
    "y_test_pred = model(x_test_tensor,_,_,_)\n",
    "print(type(y_test_pred))\n",
    "norm_pred=scalers['scaler_new_deaths'].inverse_transform(y_test_pred[:,:,0].cpu().detach().numpy())\n",
    "norm_true=scalers['scaler_new_deaths'].inverse_transform(y_test_tensor[:,:,0].cpu().detach().numpy())\n",
    "\n",
    "smape = [SMAPE(norm_true[:,h],norm_pred[:,h]) for h in range(4)]\n",
    "print(smape,np.mean(smape))\n",
    "\n",
    "normMae= [MAE(norm_true[:,h],norm_pred[:,h]) for h in range(4)]\n",
    "print(normMae, np.mean(normMae))\n",
    "\n",
    "preds = y_test_pred[:,:,0].cpu().detach().numpy()\n",
    "trues=y_test_tensor[:,:,0].cpu().detach().numpy()\n",
    "Mae = [MAE(trues[:,h], preds[:,h]) for h in range(4)]\n",
    "print(Mae, np.mean(Mae))"
   ]
  },
  {
   "cell_type": "code",
   "execution_count": 4,
   "id": "45bed04a",
   "metadata": {},
   "outputs": [
    {
     "name": "stdout",
     "output_type": "stream",
     "text": [
      "[15.139758412430925, 19.464677019817074, 24.74341415777439, 30.1103117407822] 22.364540332701146\n",
      "[807.439, 1160.3903, 1500.1342, 1821.8292] 1322.4481\n",
      "[0.13769865, 0.1978901, 0.2558292, 0.31069028] 0.22552705\n"
     ]
    }
   ],
   "source": [
    "#ROLLING WINDOW for Random WALK\n",
    "ListPred = []\n",
    "ListTrue = []\n",
    "normListPred = []\n",
    "normListTrue = []\n",
    "for w in range(x_test.shape[0]):\n",
    "    x_train_tensor = torch.from_numpy(np.array(x_train[:,:,1:], dtype=np.float32)).float().to(device)\n",
    "    y_train_tensor = torch.from_numpy(np.array(y_train[:,:,1:], dtype=np.float32)).float().to(device)\n",
    "    x_test_tensor = torch.from_numpy(np.array(x_test[:,:,1:], dtype=np.float32)).float().to(device)\n",
    "    y_test_tensor= torch.from_numpy(np.array(y_test[:,:,1:], dtype=np.float32)).float().to(device)\n",
    "#     print(y_test_tensor)\n",
    "    train = data_utils.TensorDataset(x_train_tensor, y_train_tensor)\n",
    "    train_loader = data_utils.DataLoader(train, batch_size=batch_size, shuffle=False)\n",
    "\n",
    "    for epoch in range(20):\n",
    "        for x_t, y_t in train_loader:\n",
    "            y_pred = model(x_t,_,_,_)\n",
    "        y_test_pred = model(x_test_tensor,_,_,_)\n",
    "        ListTrue.append(scalers['scaler_new_deaths'].inverse_transform(y_test_tensor[:, :, 0].cpu().detach().numpy())[0,:])\n",
    "        ListPred.append(scalers['scaler_new_deaths'].inverse_transform(y_test_pred[:,:,0].cpu().detach().numpy())[0,:])\n",
    "        normListTrue.append((y_test_tensor[:, :, 0].cpu().detach().numpy())[0,:])\n",
    "        normListPred.append((y_test_pred[:,:,0].cpu().detach().numpy())[0,:])\n",
    "    x_train, x_test, y_train, y_test = shift_sequence(x_train, y_train, x_test, y_test, 1, True)\n",
    "ListTrue = np.array(ListTrue)\n",
    "ListPred = np.array(ListPred)\n",
    "normListTrue = np.array(normListTrue)\n",
    "normListPred = np.array(normListPred)\n",
    "\n",
    "smapes_RW=[SMAPE(ListTrue[:,h], ListPred[:,h]) for h in range(4)]\n",
    "mae_RW=[MAE(ListTrue[:,h], ListPred[:,h]) for h in range(4)]\n",
    "normMae_RW=[MAE(normListTrue[:,h], normListPred[:,h]) for h in range(4)]\n",
    "\n",
    "print(smapes_RW,np.mean(smapes_RW))\n",
    "print(mae_RW,np.mean(mae_RW))\n",
    "print(normMae_RW,np.mean(normMae_RW))"
   ]
  },
  {
   "cell_type": "code",
   "execution_count": null,
   "id": "03c0fe36",
   "metadata": {},
   "outputs": [],
   "source": []
  }
 ],
 "metadata": {
  "kernelspec": {
   "display_name": "Python 3 (ipykernel)",
   "language": "python",
   "name": "python3"
  },
  "language_info": {
   "codemirror_mode": {
    "name": "ipython",
    "version": 3
   },
   "file_extension": ".py",
   "mimetype": "text/x-python",
   "name": "python",
   "nbconvert_exporter": "python",
   "pygments_lexer": "ipython3",
   "version": "3.9.13"
  }
 },
 "nbformat": 4,
 "nbformat_minor": 5
}
