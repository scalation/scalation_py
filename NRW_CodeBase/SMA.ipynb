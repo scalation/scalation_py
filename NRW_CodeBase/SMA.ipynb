{
 "cells": [
  {
   "cell_type": "code",
   "execution_count": 25,
   "metadata": {},
   "outputs": [],
   "source": [
    "import pandas as pd\n",
    "import numpy as np\n",
    "from utils.metrics import MAE,SMAPE\n",
    "\n",
    "file_name = 'datasets/covid_weekly.csv'\n",
    "data = pd.read_csv(file_name)\n",
    "horizons =4"
   ]
  },
  {
   "cell_type": "code",
   "execution_count": 26,
   "metadata": {},
   "outputs": [],
   "source": [
    "# Calculate the simple moving average for the 'new_deaths' column\n",
    "window_size = 7  # Adjust the window size as needed\n",
    "data['sma_new_deaths'] = data['new_deaths'].rolling(window=window_size).mean()\n"
   ]
  },
  {
   "cell_type": "code",
   "execution_count": 35,
   "metadata": {},
   "outputs": [],
   "source": [
    "test_ratio = 0.5\n",
    "num_train_cases = int(data.shape[0]*(1-test_ratio))\n",
    "num_test_cases = data.shape[0] - num_train_cases\n",
    "# print(num_train_cases,num_test_cases)\n",
    "data_train = data.head(num_train_cases)\n",
    "data_test = data.tail(num_test_cases)"
   ]
  },
  {
   "cell_type": "code",
   "execution_count": 30,
   "metadata": {},
   "outputs": [],
   "source": [
    "forecasts = data_test['sma_new_deaths']\n",
    "actual_values = data_test['new_deaths']"
   ]
  },
  {
   "cell_type": "code",
   "execution_count": 34,
   "metadata": {},
   "outputs": [
    {
     "name": "stdout",
     "output_type": "stream",
     "text": [
      "[21.63075406254147, 21.83910575218047, 21.937533930499406, 22.098776387572414] 21.876542533198442\n",
      "[1275.9882352941179, 1285.3350340136058, 1281.9466437177284, 1285.1689895470388] 1282.1097256431226\n"
     ]
    }
   ],
   "source": [
    "smape = [SMAPE(actual_values[h:],forecasts[h:]) for h in range(4)]\n",
    "print(smape,np.mean(smape))\n",
    "\n",
    "Mae= [MAE(actual_values[h:],forecasts[h:]) for h in range(4)]\n",
    "print(Mae, np.mean(Mae))\n"
   ]
  },
  {
   "cell_type": "code",
   "execution_count": null,
   "metadata": {},
   "outputs": [],
   "source": []
  }
 ],
 "metadata": {
  "kernelspec": {
   "display_name": "base",
   "language": "python",
   "name": "python3"
  },
  "language_info": {
   "codemirror_mode": {
    "name": "ipython",
    "version": 3
   },
   "file_extension": ".py",
   "mimetype": "text/x-python",
   "name": "python",
   "nbconvert_exporter": "python",
   "pygments_lexer": "ipython3",
   "version": "3.9.13"
  }
 },
 "nbformat": 4,
 "nbformat_minor": 2
}
