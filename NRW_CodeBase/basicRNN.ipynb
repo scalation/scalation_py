{
 "cells": [
  {
   "cell_type": "code",
   "execution_count": 1,
   "metadata": {},
   "outputs": [
    {
     "name": "stdout",
     "output_type": "stream",
     "text": [
      "8\n"
     ]
    }
   ],
   "source": [
    "from data.data_processing import data_processing\n",
    "from data.data_transforms import data_transform_std\n",
    "from data.data_splitting import make_input_output_sequences,train_test_split,shift_sequence\n",
    "import pandas as pd\n",
    "import torch\n",
    "import numpy as np\n",
    "import torch.utils.data as data_utils\n",
    "from utils.metrics import MAE,SMAPE\n",
    "from torch import nn\n",
    "device = torch.device(\"cuda\" if torch.cuda.is_available() else \"cpu\")\n",
    "\n",
    "horizons = 4\n",
    "test_ratio = 0.5\n",
    "file_name = 'datasets/covid_weekly.csv'\n",
    "data = pd.read_csv(file_name)\n",
    "target = 'new_deaths'\n",
    "features = data.columns\n",
    "print(features.size)\n",
    "m = [\"RNN\"]\n",
    "batch_size =32\n",
    "seq_len = 4\n",
    "in_dim = len(features)-1"
   ]
  },
  {
   "cell_type": "code",
   "execution_count": 2,
   "metadata": {},
   "outputs": [],
   "source": [
    "data, observed = data_processing(file_name, features,target)\n",
    "scalers, df = data_transform_std(data, test_ratio)\n",
    "x, y = make_input_output_sequences(data.values, seq_len, horizons, True)\n",
    "x_train, x_test, y_train, y_test = train_test_split(x, y, test_ratio)\n"
   ]
  },
  {
   "cell_type": "code",
   "execution_count": 3,
   "metadata": {},
   "outputs": [],
   "source": [
    "model = nn.RNN(features.size-1, 32, 4)\n",
    "criterion = nn.MSELoss()\n",
    "optimizer = torch.optim.Adam(model.parameters(), lr=0.001)"
   ]
  },
  {
   "cell_type": "code",
   "execution_count": 4,
   "metadata": {},
   "outputs": [
    {
     "name": "stdout",
     "output_type": "stream",
     "text": [
      "<class 'torch.Tensor'>\n",
      "[49.746986671730326, 49.988438170633195, 52.278396229685086, 52.70282604076244] 51.17916177820276\n",
      "[2817.594, 2753.7634, 2861.2854, 2859.8506] 2823.1233\n",
      "[0.48050553, 0.46962008, 0.48795658, 0.48771188] 0.48144853\n"
     ]
    }
   ],
   "source": [
    "for w in range(x_test.shape[0]):\n",
    "    x_train_tensor = torch.from_numpy(np.array(x_train[:,:,1:], dtype=np.float32)).float().to(device)\n",
    "    y_train_tensor = torch.from_numpy(np.array(y_train[:,:,1:], dtype=np.float32)).float().to(device)\n",
    "    x_test_tensor = torch.from_numpy(np.array(x_test[:,:,1:], dtype=np.float32)).float().to(device)\n",
    "    y_test_tensor= torch.from_numpy(np.array(y_test[:,:,1:], dtype=np.float32)).float().to(device)\n",
    "    train = data_utils.TensorDataset(x_train_tensor, y_train_tensor)\n",
    "    train_loader = data_utils.DataLoader(train, batch_size=batch_size, shuffle=False)\n",
    "    \n",
    "    for epoch in range(20):\n",
    "        for x_t, y_t in train_loader:\n",
    "            optimizer.zero_grad()\n",
    "            y_pred, h_train = model(x_t)\n",
    "            loss = criterion(y_pred[:,:,0], y_t[:,:,0])\n",
    "            loss.backward()\n",
    "            optimizer.step()\n",
    "        # print(f'Epoch {epoch+1}/{20}, Loss: {loss.item()}')\n",
    "y_test_pred, h_test = model(x_test_tensor)\n",
    "print(type(y_test_pred))\n",
    "norm_pred=scalers['scaler_new_deaths'].inverse_transform(y_test_pred[:,:,0].cpu().detach().numpy())\n",
    "norm_true=scalers['scaler_new_deaths'].inverse_transform(y_test_tensor[:,:,0].cpu().detach().numpy())\n",
    "smape = [SMAPE(norm_true[:,h],norm_pred[:,h]) for h in range(4)]\n",
    "print(smape,np.mean(smape))\n",
    "\n",
    "normMae= [MAE(norm_true[:,h],norm_pred[:,h]) for h in range(4)]\n",
    "print(normMae, np.mean(normMae))\n",
    "\n",
    "preds = y_test_pred[:,:,0].cpu().detach().numpy()\n",
    "trues=y_test_tensor[:,:,0].cpu().detach().numpy()\n",
    "Mae = [MAE(trues[:,h], preds[:,h]) for h in range(4)]\n",
    "print(Mae, np.mean(Mae))"
   ]
  },
  {
   "cell_type": "code",
   "execution_count": 5,
   "metadata": {},
   "outputs": [
    {
     "name": "stdout",
     "output_type": "stream",
     "text": [
      "[37.77957869164737, 39.618989920910494, 41.241952401620374, 41.63648440514082] 40.06925135482976\n",
      "[1978.0157, 2037.4532, 2100.6936, 2128.2437] 2061.1016\n",
      "[0.3373259, 0.3474623, 0.35824713, 0.36294544] 0.3514952\n"
     ]
    }
   ],
   "source": [
    "#ROLLING WINDOW for RNN\n",
    "ListPred = []\n",
    "ListTrue = []\n",
    "normListPred = []\n",
    "normListTrue = []\n",
    "for w in range(x_test.shape[0]):\n",
    "    x_train_tensor = torch.from_numpy(np.array(x_train[:,:,1:], dtype=np.float32)).float().to(device)\n",
    "    y_train_tensor = torch.from_numpy(np.array(y_train[:,:,1:], dtype=np.float32)).float().to(device)\n",
    "    x_test_tensor = torch.from_numpy(np.array(x_test[:,:,1:], dtype=np.float32)).float().to(device)\n",
    "    y_test_tensor= torch.from_numpy(np.array(y_test[:,:,1:], dtype=np.float32)).float().to(device)\n",
    "#     print(y_test_tensor)\n",
    "    train = data_utils.TensorDataset(x_train_tensor, y_train_tensor)\n",
    "    train_loader = data_utils.DataLoader(train, batch_size=batch_size, shuffle=False)\n",
    "\n",
    "    for epoch in range(20):\n",
    "        for x_t, y_t in train_loader:\n",
    "            optimizer.zero_grad()\n",
    "            y_pred, h_train = model(x_t)\n",
    "            loss = criterion(y_pred[:,:,0], y_t[:,:,0])\n",
    "            loss.backward()\n",
    "            optimizer.step()\n",
    "        y_test_pred, h_test = model(x_test_tensor)\n",
    "        ListTrue.append(scalers['scaler_new_deaths'].inverse_transform(y_test_tensor[:, :, 0].cpu().detach().numpy())[0,:])\n",
    "        ListPred.append(scalers['scaler_new_deaths'].inverse_transform(y_test_pred[:,:,0].cpu().detach().numpy())[0,:])\n",
    "        normListTrue.append((y_test_tensor[:, :, 0].cpu().detach().numpy())[0,:])\n",
    "        normListPred.append((y_test_pred[:,:,0].cpu().detach().numpy())[0,:])\n",
    "    x_train, x_test, y_train, y_test = shift_sequence(x_train, y_train, x_test, y_test, 1, True)\n",
    "ListTrue = np.array(ListTrue)\n",
    "ListPred = np.array(ListPred)\n",
    "normListTrue = np.array(normListTrue)\n",
    "normListPred = np.array(normListPred)\n",
    "\n",
    "smapes_RW=[SMAPE(ListTrue[:,h], ListPred[:,h]) for h in range(4)]\n",
    "mae_RW=[MAE(ListTrue[:,h], ListPred[:,h]) for h in range(4)]\n",
    "normMae_RW=[MAE(normListTrue[:,h], normListPred[:,h]) for h in range(4)]\n",
    "\n",
    "print(smapes_RW,np.mean(smapes_RW))\n",
    "print(mae_RW,np.mean(mae_RW))\n",
    "print(normMae_RW,np.mean(normMae_RW))"
   ]
  }
 ],
 "metadata": {
  "kernelspec": {
   "display_name": "base",
   "language": "python",
   "name": "python3"
  },
  "language_info": {
   "codemirror_mode": {
    "name": "ipython",
    "version": 3
   },
   "file_extension": ".py",
   "mimetype": "text/x-python",
   "name": "python",
   "nbconvert_exporter": "python",
   "pygments_lexer": "ipython3",
   "version": "3.9.13"
  }
 },
 "nbformat": 4,
 "nbformat_minor": 2
}
